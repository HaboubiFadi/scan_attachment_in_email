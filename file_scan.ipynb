{
 "cells": [
  {
   "cell_type": "code",
   "execution_count": 1,
   "id": "eded97cc",
   "metadata": {},
   "outputs": [],
   "source": [
    "from tools import *"
   ]
  },
  {
   "cell_type": "code",
   "execution_count": 2,
   "id": "699d59be",
   "metadata": {},
   "outputs": [],
   "source": [
    "##CONNECT_TO_MAIL_INBOX##\n",
    "##GET_LAST_Email###\n",
    "# insert your email and password\n",
    "# your gmail need to have ' Access to less secure applications'==Activated\n",
    "\n",
    "password=''\n",
    "user =''"
   ]
  },
  {
   "cell_type": "code",
   "execution_count": 3,
   "id": "4a30d75e",
   "metadata": {},
   "outputs": [],
   "source": [
    "email_message =get_last_mail(user,password)"
   ]
  },
  {
   "cell_type": "markdown",
   "id": "15ae4cfc",
   "metadata": {},
   "source": [
    "# detect files in email\n"
   ]
  },
  {
   "cell_type": "code",
   "execution_count": 26,
   "id": "248abc4b",
   "metadata": {},
   "outputs": [
    {
     "name": "stdout",
     "output_type": "stream",
     "text": [
      "10\n",
      "Downloaded \"téléchargement.jfif\" from email titled \"ggggg\" .\n",
      "Downloaded \"emails_final_spam_ham.csv\" from email titled \"ggggg\" .\n"
     ]
    },
    {
     "data": {
      "text/plain": [
       "(['C:\\\\Users\\\\Haboubi\\\\file_attach_det\\\\File\\\\téléchargement.jfif',\n",
       "  'C:\\\\Users\\\\Haboubi\\\\file_attach_det\\\\File\\\\emails_final_spam_ham.csv'],\n",
       " ['C:\\\\Users\\\\Haboubi\\\\file_attach_det\\\\File\\\\téléchargement.jfif'])"
      ]
     },
     "execution_count": 26,
     "metadata": {},
     "output_type": "execute_result"
    }
   ],
   "source": [
    "liste=file_attached(email_message)\n",
    "liste"
   ]
  },
  {
   "cell_type": "markdown",
   "id": "1ddadb5e",
   "metadata": {},
   "source": [
    "## scan images from any dangerous content"
   ]
  },
  {
   "cell_type": "code",
   "execution_count": 9,
   "id": "e547175a",
   "metadata": {},
   "outputs": [],
   "source": [
    "img=test_imgs(liste)"
   ]
  },
  {
   "cell_type": "markdown",
   "id": "af01e4d8",
   "metadata": {},
   "source": [
    "## scan files "
   ]
  },
  {
   "cell_type": "code",
   "execution_count": 16,
   "id": "4d3bf098",
   "metadata": {},
   "outputs": [
    {
     "data": {
      "text/plain": [
       "[]"
      ]
     },
     "execution_count": 16,
     "metadata": {},
     "output_type": "execute_result"
    }
   ],
   "source": [
    "scan=scan_files(liste[0])\n",
    "scan"
   ]
  },
  {
   "cell_type": "code",
   "execution_count": null,
   "id": "0dd471e7",
   "metadata": {},
   "outputs": [],
   "source": [
    "scan_model=model_scan_file(scan)\n",
    "scan_model"
   ]
  },
  {
   "cell_type": "code",
   "execution_count": 19,
   "id": "512377d4",
   "metadata": {},
   "outputs": [
    {
     "data": {
      "text/plain": [
       "1"
      ]
     },
     "execution_count": 19,
     "metadata": {},
     "output_type": "execute_result"
    }
   ],
   "source": [
    "m_img=model_img_file(img)\n",
    "m_img    "
   ]
  },
  {
   "cell_type": "code",
   "execution_count": 2,
   "id": "0a657b1a",
   "metadata": {},
   "outputs": [],
   "source": [
    "delete_all_file()"
   ]
  },
  {
   "cell_type": "code",
   "execution_count": 4,
   "id": "8712d53f",
   "metadata": {},
   "outputs": [],
   "source": [
    "def get_file_type(liste):\n",
    "    k=[]\n",
    "    for i in liste[0]:\n",
    "        k.append(os.path.splitext(i)[1])\n",
    "    return k    \n",
    "def get_fileatt_info(email_message):\n",
    "    liste=file_attached(email_message)\n",
    "    img=test_imgs(liste)\n",
    "    scan=scan_files(liste[0])\n",
    "    scan_model=model_scan_file(scan)\n",
    "    m_img=model_img_file(img)\n",
    "    file_type=get_file_type(liste)\n",
    "    delete_all_file()\n",
    "    return (scan_model,file_type),(m_img,img)\n",
    "def fetch_file_img(score):\n",
    "    return score[1]\n",
    "def fetch_file_virus(score):\n",
    "    return score[0]\n",
    "\n",
    "    "
   ]
  },
  {
   "cell_type": "code",
   "execution_count": 5,
   "id": "53f25322",
   "metadata": {},
   "outputs": [],
   "source": [
    "def get_file_type(liste):\n",
    "    k=[]\n",
    "    for i in liste[0]:\n",
    "        k.append(os.path.splitext(i)[1])\n",
    "    return k    \n",
    "    \n",
    "    "
   ]
  },
  {
   "cell_type": "code",
   "execution_count": 36,
   "id": "c2b928fe",
   "metadata": {},
   "outputs": [
    {
     "data": {
      "text/plain": [
       "['.jfif', '.csv']"
      ]
     },
     "execution_count": 36,
     "metadata": {},
     "output_type": "execute_result"
    }
   ],
   "source": [
    "get_file_type(liste)"
   ]
  },
  {
   "cell_type": "code",
   "execution_count": 6,
   "id": "20912c5e",
   "metadata": {},
   "outputs": [
    {
     "name": "stdout",
     "output_type": "stream",
     "text": [
      "10\n",
      "Downloaded \"téléchargement.jfif\" from email titled \"qsdqsd\" .\n",
      "Downloaded \"spam_ham.csv\" from email titled \"qsdqsd\" .\n",
      "delete file: C:\\Users\\Haboubi\\file_attach_det\\File\\téléchargement.jfif\n",
      "delete file: C:\\Users\\Haboubi\\file_attach_det\\File\\spam_ham.csv\n"
     ]
    }
   ],
   "source": [
    "file_detecte=get_fileatt_info(email_message)"
   ]
  },
  {
   "cell_type": "code",
   "execution_count": 7,
   "id": "c5773a84",
   "metadata": {},
   "outputs": [
    {
     "data": {
      "text/plain": [
       "((0, ['.jfif', '.csv']),\n",
       " (1,\n",
       "  [{'amazon': {'status': 'success',\n",
       "     'nsfw_likelihood': 5,\n",
       "     'items': [{'label': 'Graphic Violence Or Gore', 'likelihood': 5},\n",
       "      {'label': 'Violence', 'likelihood': 5}]}}]))"
      ]
     },
     "execution_count": 7,
     "metadata": {},
     "output_type": "execute_result"
    }
   ],
   "source": [
    "l"
   ]
  }
 ],
 "metadata": {
  "kernelspec": {
   "display_name": "Python 3 (ipykernel)",
   "language": "python",
   "name": "python3"
  },
  "language_info": {
   "codemirror_mode": {
    "name": "ipython",
    "version": 3
   },
   "file_extension": ".py",
   "mimetype": "text/x-python",
   "name": "python",
   "nbconvert_exporter": "python",
   "pygments_lexer": "ipython3",
   "version": "3.10.6"
  }
 },
 "nbformat": 4,
 "nbformat_minor": 5
}
