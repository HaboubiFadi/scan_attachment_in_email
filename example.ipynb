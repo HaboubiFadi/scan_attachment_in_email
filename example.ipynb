{
 "cells": [
  {
   "cell_type": "code",
   "execution_count": 1,
   "id": "eded97cc",
   "metadata": {},
   "outputs": [],
   "source": [
    "from tools import *"
   ]
  },
  {
   "cell_type": "code",
   "execution_count": 2,
   "id": "699d59be",
   "metadata": {},
   "outputs": [],
   "source": [
    "password=''\n",
    "\n",
    "user =''"
   ]
  },
  {
   "cell_type": "code",
   "execution_count": 3,
   "id": "4a30d75e",
   "metadata": {},
   "outputs": [],
   "source": [
    "email_message =get_last_mail(user,password)"
   ]
  },
  {
   "cell_type": "markdown",
   "id": "15ae4cfc",
   "metadata": {},
   "source": [
    "# detect files in email\n"
   ]
  },
  {
   "cell_type": "code",
   "execution_count": 4,
   "id": "248abc4b",
   "metadata": {},
   "outputs": [
    {
     "name": "stdout",
     "output_type": "stream",
     "text": [
      "10\n",
      "Downloaded \"téléchargement.jfif\" from email titled \"test_file\" .\n"
     ]
    }
   ],
   "source": [
    "liste=file_attached(email_message)"
   ]
  },
  {
   "cell_type": "markdown",
   "id": "1ddadb5e",
   "metadata": {},
   "source": [
    "## scan images from any dangerous content"
   ]
  },
  {
   "cell_type": "code",
   "execution_count": 8,
   "id": "4d3bf098",
   "metadata": {},
   "outputs": [],
   "source": [
    "scan=scan_files(liste[0])\n"
   ]
  },
  {
   "cell_type": "code",
   "execution_count": 9,
   "id": "3c9e773c",
   "metadata": {},
   "outputs": [
    {
     "name": "stdout",
     "output_type": "stream",
     "text": [
      "### Model return: 0\n"
     ]
    }
   ],
   "source": [
    "###  scan model ###\n",
    "scan_model=model_scan_file(scan)\n",
    "print(\"### Model return:\",scan_model)"
   ]
  }
 ],
 "metadata": {
  "kernelspec": {
   "display_name": "Python 3 (ipykernel)",
   "language": "python",
   "name": "python3"
  },
  "language_info": {
   "codemirror_mode": {
    "name": "ipython",
    "version": 3
   },
   "file_extension": ".py",
   "mimetype": "text/x-python",
   "name": "python",
   "nbconvert_exporter": "python",
   "pygments_lexer": "ipython3",
   "version": "3.10.6"
  }
 },
 "nbformat": 4,
 "nbformat_minor": 5
}
